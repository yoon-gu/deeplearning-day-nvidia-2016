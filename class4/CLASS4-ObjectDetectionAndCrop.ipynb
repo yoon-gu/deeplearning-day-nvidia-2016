{
 "cells": [
  {
   "cell_type": "markdown",
   "metadata": {},
   "source": [
    "#Crop Image with OpenCV \n",
    "\n"
   ]
  },
  {
   "cell_type": "markdown",
   "metadata": {},
   "source": [
    "#step1 Subset Data\n",
    "subset 데이터를 복사하여 압축을 풉니다. "
   ]
  },
  {
   "cell_type": "code",
   "execution_count": null,
   "metadata": {
    "collapsed": false,
    "scrolled": true
   },
   "outputs": [],
   "source": [
    "!pwd"
   ]
  },
  {
   "cell_type": "code",
   "execution_count": null,
   "metadata": {
    "collapsed": false
   },
   "outputs": [],
   "source": [
    "!cp ~/dlday/imgs_subset.zip ./."
   ]
  },
  {
   "cell_type": "code",
   "execution_count": null,
   "metadata": {
    "collapsed": true
   },
   "outputs": [],
   "source": [
    "!unzip imgs_subset.zip"
   ]
  },
  {
   "cell_type": "markdown",
   "metadata": {},
   "source": [
    "#step2 import openCV moudle\n",
    "\n",
    "파이썬에서 openCV 모듈 이외에 필요한 matplotlib, numpy 등 필요한 모듈을 로드합니다. \n",
    "\n"
   ]
  },
  {
   "cell_type": "code",
   "execution_count": null,
   "metadata": {
    "collapsed": false
   },
   "outputs": [],
   "source": [
    "%matplotlib inline\n",
    "\n",
    "import os\n",
    "from zipfile import ZipFile \n",
    "from PIL import Image \n",
    "from StringIO import StringIO\n",
    "import numpy as np\n",
    "import cv2\n",
    "import matplotlib.pyplot as plt\n",
    "import random\n",
    "import imghdr"
   ]
  },
  {
   "cell_type": "markdown",
   "metadata": {},
   "source": [
    "폴더 혹은 압축파일을 선택합니다. 또한, 위치계산을 위해 15% resize를 수행합니다. \n",
    "만약, class2에서 resize 작업이 된 파일이 있으시면 이를 이용해도 됩니다"
   ]
  },
  {
   "cell_type": "code",
   "execution_count": null,
   "metadata": {
    "collapsed": false
   },
   "outputs": [],
   "source": [
    "archive_name = 'imgs_subset'\n",
    "resize_factor = 0.15"
   ]
  },
  {
   "cell_type": "markdown",
   "metadata": {},
   "source": [
    "# Step3 Class Frame\n",
    "이미지 Detection을 위해 필요한 처리를 위한 Class 를 정의합니다. \n",
    "\n",
    "주요 함수는 다음과 같습니다. \n",
    "파일열기, 저장 등의 기본 동작 opencv와 matplotlib, numpy의 데이터 구조( RGB 구조 차이 )과 관련된 유틸리티 함수\n",
    "blur, edge detect 등의 image processing 함수 \n",
    "bounding box 값 추출 및 draw 및 crop 함수 \n"
   ]
  },
  {
   "cell_type": "code",
   "execution_count": null,
   "metadata": {
    "collapsed": false
   },
   "outputs": [],
   "source": [
    "class Frame:\n",
    "    def __init__(self, file_name, image_data):\n",
    "        self.file_name = file_name\n",
    "        \n",
    "        pil_image = Image.open(image_data)\n",
    "        image_data = np.array(pil_image)\n",
    "        pil_image.close()\n",
    "        \n",
    "        self.image = image_data\n",
    "        self.backup_image = np.empty\n",
    "        self.edged = np.empty\n",
    "        self.boxed_image = np.empty\n",
    "        self.object_position = (0, 0, 0, 0)\n",
    "        \n",
    "        self.debug_image = np.empty\n",
    "        \n",
    "    def resize(self, resize_factor):\n",
    "        height, width = self.image.shape[:2]\n",
    "        self.image = cv2.resize(self.image, (int(width * resize_factor), int(height * resize_factor)))\n",
    "        self.edged = np.zeros(self.image.shape[:2], dtype='uint8')\n",
    "        \n",
    "    def backup(self):\n",
    "        self.backup_image = np.copy(self.image)\n",
    "        \n",
    "    def convert(self, mode):\n",
    "        self.image = cv2.cvtColor(self.image, mode)\n",
    "        self.debug_image = np.copy(self.image)\n",
    "        \n",
    "    def blur(self, blur_size):\n",
    "        self.image = cv2.GaussianBlur(self.image, (blur_size, blur_size), 1)\n",
    "        \n",
    "    def edge(self):\n",
    "        for channel in cv2.split(self.image):\n",
    "            edged = cv2.Canny(channel, 90, 210)\n",
    "            self.edged = cv2.bitwise_or(self.edged, edged)\n",
    "        \n",
    "    def drawBox(self):\n",
    "        cnts, hierarchy = cv2.findContours(self.edged, cv2.RETR_TREE, cv2.CHAIN_APPROX_SIMPLE)\n",
    "        \n",
    "        if len(cnts) > 0:\n",
    "            cnt = max(cnts, key = cv2.contourArea)\n",
    "            x, y, w, h = cv2.boundingRect(cnt)\n",
    "            self.boxed_image = np.copy(self.backup_image)\n",
    "            cv2.rectangle(self.boxed_image, (x, y), (x + w, y + h), (0, 255, 0), 2)\n",
    "            \n",
    "            self.object_position = x, y, w, h\n",
    "            \n",
    "            return True\n",
    "        else:\n",
    "            return False\n",
    "            \n",
    "    def crop(self):\n",
    "        x, y, w, h = self.object_position\n",
    "        self.image = self.backup_image[y : y + h, x : x + w]\n",
    "        \n",
    "    def save(self, output_path):\n",
    "        file_path = os.path.join(output_path, self.file_name)\n",
    "        try:\n",
    "            image = Image.fromarray(self.image)\n",
    "            image.save(file_path, 'jpeg')\n",
    "            print('Saved image to ' + file_path)\n",
    "        except:\n",
    "            print 'File save error on ' + file_path\n",
    "            file_path = \"\"\n",
    "        \n",
    "        return file_path"
   ]
  },
  {
   "cell_type": "markdown",
   "metadata": {},
   "source": [
    "# Processing\n",
    "\n",
    "proc 함수를 통해서 작업 처리  순서를 정의합니다.\n",
    "resize, convert, blur, edge detect, drawbox, crop, save 순으로 작업됩니다.\n",
    "\n",
    "이외에 폴더/파일 핸들링 함수와 화면 출력용 함수가 정의되어 있습니다. "
   ]
  },
  {
   "cell_type": "code",
   "execution_count": null,
   "metadata": {
    "collapsed": false
   },
   "outputs": [],
   "source": [
    "class Processing:\n",
    "    def __init__(self, archive_name, \n",
    "                 resize_factor = 0.15, \n",
    "                 convert_mode = cv2.COLOR_BGR2HSV,\n",
    "                 blur_size = 9,\n",
    "                 output_path = 'imgs_subset_train'):\n",
    "        self.archive_name = archive_name\n",
    "        self.resize_factor = resize_factor\n",
    "        self.convert_mode = convert_mode\n",
    "        self.blur_size = blur_size\n",
    "        self.output_path = output_path\n",
    "        \n",
    "        self.ls_frame = []\n",
    "        \n",
    "    def proc(self, file_name, image_data):\n",
    "        frame = Frame(file_name, image_data)\n",
    "        frame.resize(self.resize_factor)\n",
    "        frame.backup()\n",
    "        frame.convert(self.convert_mode)\n",
    "        frame.blur(self.blur_size)\n",
    "        frame.edge()\n",
    "        frame.drawBox()\n",
    "        frame.crop()\n",
    "        frame.save(self.output_path)\n",
    "\n",
    "        self.ls_frame.append(frame)\n",
    "                \n",
    "    def run_dir(self, image_directory = 'imgs_subset'):\n",
    "        for file_name in os.listdir(image_directory):\n",
    "            image_file_path = os.path.join(image_directory, file_name)\n",
    "            if imghdr.what(image_file_path) == 'jpeg':\n",
    "                self.proc(file_name, image_file_path)\n",
    "        \n",
    "    def run_zip(self):\n",
    "        with ZipFile(self.archive_name, 'r') as archive:\n",
    "            for image_file in archive.namelist()[1:]:\n",
    "                file_name = image_file.split('/')[-1]                \n",
    "                self.proc(file_name, StringIO(archive.read(image_file)))\n",
    "                \n",
    "    def create_output_directory(self):\n",
    "        try:\n",
    "            (destination) = os.makedirs( self.output_path, 0755 )\n",
    "        except OSError:\n",
    "            print \"Skipping creation of %s because it exists already.\" % self.output_path\n",
    "                \n",
    "    def run(self):\n",
    "        self.create_output_directory()\n",
    "        \n",
    "        if os.path.isdir(self.archive_name):\n",
    "            print 'running object detection from directory'\n",
    "            self.run_dir()\n",
    "        elif self.archive_name.lower().endswith('.zip'):\n",
    "            print 'running object detection from zip archive file'\n",
    "            self.run_zip()\n",
    "        else:\n",
    "            print 'unknown archive type'\n",
    "            \n",
    "    def view_image(self, img_idx):\n",
    "        plt.subplot(1, 4, 1)\n",
    "        plt.imshow(self.ls_frame[img_idx].backup_image)\n",
    "        plt.xlabel('original')\n",
    "\n",
    "        plt.subplot(1, 4, 2)\n",
    "        plt.imshow(self.ls_frame[img_idx].edged)\n",
    "        plt.xlabel('edged')\n",
    "\n",
    "        plt.subplot(1, 4, 3)\n",
    "        plt.imshow(self.ls_frame[img_idx].boxed_image)\n",
    "        plt.xlabel('boxed')\n",
    "\n",
    "        plt.subplot(1, 4, 4)\n",
    "        plt.imshow(self.ls_frame[img_idx].image)\n",
    "        plt.xlabel('cropped')\n",
    "\n",
    "        plt.show()\n",
    "        \n",
    "    def view_multiple_image(self, num_view, num_image, img_idx = -1):\n",
    "        for idx in range(num_view):\n",
    "            img_idx = random.randrange(0, num_image)\n",
    "\n",
    "            plt.subplot(num_view, 4, idx * 4 + 1)\n",
    "            plt.imshow(self.ls_frame[img_idx].backup_image)\n",
    "            plt.xlabel('original')\n",
    "            plt.ylabel(img_idx)\n",
    "\n",
    "            plt.subplot(num_view, 4, idx * 4 + 2)\n",
    "            plt.imshow(self.ls_frame[img_idx].edged)\n",
    "            plt.xlabel('edged')\n",
    "\n",
    "            plt.subplot(num_view, 4, idx * 4 + 3)\n",
    "            plt.imshow(self.ls_frame[img_idx].boxed_image)\n",
    "            plt.xlabel('boxed')\n",
    "\n",
    "            plt.subplot(num_view, 4, idx * 4 + 4)\n",
    "            plt.imshow(self.ls_frame[img_idx].image)\n",
    "            plt.xlabel('cropped')\n",
    "\n",
    "        plt.show()"
   ]
  },
  {
   "cell_type": "markdown",
   "metadata": {},
   "source": [
    "# 작업 시작 \n",
    "작업을 수행합니다.  작업을 모두 마치는데는 약 1분 정도의 시간이 소요됩니다. "
   ]
  },
  {
   "cell_type": "code",
   "execution_count": null,
   "metadata": {
    "collapsed": false
   },
   "outputs": [],
   "source": [
    "img_proc = Processing('imgs_subset')\n",
    "img_proc.run()"
   ]
  },
  {
   "cell_type": "markdown",
   "metadata": {},
   "source": [
    "## Results"
   ]
  },
  {
   "cell_type": "markdown",
   "metadata": {},
   "source": [
    "작업처리 결과를 살펴볼 수 있습니다. "
   ]
  },
  {
   "cell_type": "code",
   "execution_count": null,
   "metadata": {
    "collapsed": true
   },
   "outputs": [],
   "source": [
    "plt.figure(figsize=(15, 25))\n",
    "img_proc.view_multiple_image(5, len(img_proc.ls_frame))"
   ]
  },
  {
   "cell_type": "markdown",
   "metadata": {},
   "source": [
    "## not-optimzed images\n",
    "These images are what I found that is not fitting well for the optimization I did."
   ]
  },
  {
   "cell_type": "code",
   "execution_count": null,
   "metadata": {
    "collapsed": true
   },
   "outputs": [],
   "source": [
    "plt.figure(figsize=(15, 10))\n",
    "img_proc.view_image(33)"
   ]
  },
  {
   "cell_type": "code",
   "execution_count": null,
   "metadata": {
    "collapsed": true
   },
   "outputs": [],
   "source": [
    "plt.figure(figsize=(15, 10))\n",
    "img_proc.view_image(28)"
   ]
  },
  {
   "cell_type": "code",
   "execution_count": null,
   "metadata": {
    "collapsed": true
   },
   "outputs": [],
   "source": [
    "plt.figure(figsize=(15, 10))\n",
    "img_proc.view_image(38)"
   ]
  },
  {
   "cell_type": "code",
   "execution_count": null,
   "metadata": {
    "collapsed": true
   },
   "outputs": [],
   "source": [
    "plt.figure(figsize=(15, 10))\n",
    "img_proc.view_image(30)"
   ]
  },
  {
   "cell_type": "markdown",
   "metadata": {
    "collapsed": true
   },
   "source": [
    "#개선사항\n",
    "1. face만 잘라내야 합니다. 그런데, 파도가 잡히는 것을 확인할 수 있습니다. \n",
    " "
   ]
  }
 ],
 "metadata": {
  "kernelspec": {
   "display_name": "Python 2",
   "language": "python",
   "name": "python2"
  }
 },
 "nbformat": 4,
 "nbformat_minor": 0
}
