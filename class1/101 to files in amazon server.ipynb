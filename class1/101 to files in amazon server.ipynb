{
 "cells": [
  {
   "cell_type": "code",
   "execution_count": 1,
   "metadata": {
    "collapsed": false
   },
   "outputs": [
    {
     "name": "stdout",
     "output_type": "stream",
     "text": [
      "create_train_db.log  labels.txt        mean.jpg       train.txt  val.txt\r\n",
      "create_val_db.log    mean.binaryproto  status.pickle  train_db\t val_db\r\n"
     ]
    }
   ],
   "source": [
    "! ls /home/ubuntu/DIGITS/digits/jobs/20160119-044627-ac1f"
   ]
  },
  {
   "cell_type": "code",
   "execution_count": 2,
   "metadata": {
    "collapsed": false
   },
   "outputs": [
    {
     "name": "stdout",
     "output_type": "stream",
     "text": [
      "total 2.6M\r\n",
      "drwxrwxr-x 4 ubuntu ubuntu 4.0K May 26 04:10 .\r\n",
      "drwxrwxr-x 9 ubuntu ubuntu 4.0K May 25 14:19 ..\r\n",
      "-rw-rw-r-- 1 ubuntu ubuntu  15K Jan 19 04:57 create_train_db.log\r\n",
      "-rw-rw-r-- 1 ubuntu ubuntu 7.1K Jan 19 04:51 create_val_db.log\r\n",
      "-rw-rw-r-- 1 ubuntu ubuntu  134 Jan 19 04:46 labels.txt\r\n",
      "-rw-rw-r-- 1 ubuntu ubuntu 769K Jan 19 04:57 mean.binaryproto\r\n",
      "-rw-rw-r-- 1 ubuntu ubuntu 2.0K Jan 19 04:57 mean.jpg\r\n",
      "-rw-r--r-- 1 ubuntu ubuntu 5.5K May 26 04:10 status.pickle\r\n",
      "-rw-rw-r-- 1 ubuntu ubuntu 1.4M Jan 19 04:46 train.txt\r\n",
      "drwxr-xr-x 2 ubuntu ubuntu 4.0K Jan 19 04:46 train_db\r\n",
      "-rw-rw-r-- 1 ubuntu ubuntu 456K Jan 19 04:46 val.txt\r\n",
      "drwxr-xr-x 2 ubuntu ubuntu 4.0K Jan 19 04:46 val_db\r\n"
     ]
    }
   ],
   "source": [
    "! ls -alh /home/ubuntu/DIGITS/digits/jobs/20160119-044627-ac1f"
   ]
  },
  {
   "cell_type": "code",
   "execution_count": 5,
   "metadata": {
    "collapsed": false
   },
   "outputs": [
    {
     "name": "stdout",
     "output_type": "stream",
     "text": [
      "airplane\r\n",
      "bicycle\r\n",
      "bird\r\n",
      "boat\r\n",
      "bottle\r\n",
      "bus\r\n",
      "car\r\n",
      "cat\r\n",
      "chair\r\n",
      "cow\r\n",
      "diningtable\r\n",
      "dog\r\n",
      "horse\r\n",
      "motorbike\r\n",
      "person\r\n",
      "pottedplant\r\n",
      "sheep\r\n",
      "sofa\r\n",
      "train\r\n",
      "tvmonitor\r\n"
     ]
    }
   ],
   "source": [
    "! cat /home/ubuntu/DIGITS/digits/jobs/20160119-044627-ac1f/labels.txt"
   ]
  },
  {
   "cell_type": "code",
   "execution_count": 6,
   "metadata": {
    "collapsed": false,
    "scrolled": true
   },
   "outputs": [
    {
     "name": "stdout",
     "output_type": "stream",
     "text": [
      "git version 1.9.1\r\n"
     ]
    }
   ],
   "source": [
    "! git --version"
   ]
  }
 ],
 "metadata": {
  "kernelspec": {
   "display_name": "Python 2",
   "language": "python",
   "name": "python2"
  },
  "language_info": {
   "codemirror_mode": {
    "name": "ipython",
    "version": 2
   },
   "file_extension": ".py",
   "mimetype": "text/x-python",
   "name": "python",
   "nbconvert_exporter": "python",
   "pygments_lexer": "ipython2",
   "version": "2.7.11"
  }
 },
 "nbformat": 4,
 "nbformat_minor": 0
}
